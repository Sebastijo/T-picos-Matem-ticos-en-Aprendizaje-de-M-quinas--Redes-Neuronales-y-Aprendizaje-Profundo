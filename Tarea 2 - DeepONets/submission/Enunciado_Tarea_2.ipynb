{
  "cells": [
    {
      "cell_type": "markdown",
      "metadata": {
        "id": "gqFk5CBeLjN0"
      },
      "source": [
        "## **MA5606 Tópicos Matemáticos en Aprendizaje de Máquinas, Redes Neuronales y Aprendizaje Profundo**\n",
        "\n",
        "### **Tarea 2: Algoritmos de entrenamiento y aproximación de esperanzas condicionales**\n",
        "\n",
        "**Profesores: Claudio Muñoz y Joaquín Fontbona**\n",
        "\n",
        "**Auxiliares: Javier Maass y Diego Olguín**\n",
        "\n",
        "**Nombres integrantes: COMPLETAR**\n",
        "\n"
      ]
    },
    {
      "cell_type": "markdown",
      "metadata": {
        "id": "j3gTx7GbPsvw"
      },
      "source": [
        "**Instrucciones:**\n",
        "\n",
        "- **Fecha de entrega:** **31 de mayo de 2024, a las 23:59.**\n",
        "\n",
        "- **Importante:** Si trabaja desde el link de Google Colab debe hacer un copia en su Drive antes de trabajar, de lo contrario se podrían no guardar sus códigos.\n",
        "\n",
        "- Debe entregar un Jupyter Notebook (archivo .ipynb) con sus código en Python. Le pueden ser de mucha utilidad los códigos vistos en la actividad práctica.\n",
        "\n",
        "- Sus códigos deben estar comentados y ordenados. Además, en formato texto debe colocar todas sus conclusiones y resultados pedidos que deban ser redactados.\n",
        "\n",
        "- En todos los ejercicios se le pide hacer al menos un gráfico. Los gráficos que realicen deben ser claros, con títulos y nombres en los ejes, junto con leyendas si es que corresponde."
      ]
    },
    {
      "cell_type": "markdown",
      "metadata": {
        "id": "WEl7z1gWLr7t"
      },
      "source": [
        "#### **Ejercicio 1: Algoritmo Adam**\n",
        "\n",
        "En el presente [artículo](https://arxiv.org/abs/1412.6980) se introduce el algoritmo de optimización estocástica Adam (por Adaptative Moment Estimation), el objetivo de este ejercicio es implementar dicho algoritmo y utilizarlo para entrenar redes neuronales, para ello se explorarán todos los detalles de implementación de una red neuronal, con ciertas simplificaciones.\n",
        "\n",
        "Utilizaremos Adam para entrenar una red neuronal de 1 capa oculta de $\\mathbb{R}$ en $\\mathbb{R}$, de ancho $batch_size$, con su realización dada por\n",
        "\n",
        "$$ \\Phi_\\theta (x) = W_2 \\cdot \\sigma (W_1 \\cdot x + b_1) + b_2 $$\n",
        "\n",
        "Consideraremos $\\sigma(x) = \\text{tanh}(x)$ y $\\theta = (W_1, b_1, W_2, b_2)$, $W_1 \\in \\mathbb{R}^{batch_size \\times 1}$, $b_1 \\in \\mathbb{R}^{batch_size}$, $W_2 \\in \\mathbb{R}^{1 \\times batch_size}$, $b_2 \\in \\mathbb{R}$. En este caso codificaremos, los parámetros del sistema en un vector de $\\mathbb{R}^{3N + 1}$ dado por\n",
        "\n",
        "$$ \\theta = (W_1, b_1, W_2, b_2)^T $$\n",
        "\n",
        "Esto no es lo que hacen las librerías de aprendizaje profundo en la realidad, pero en este caso permite simplificar mucho los manejos de estructuras de datos utilizadas.\n",
        "\n",
        "Para lo que sigue utilizaremos la librería ``autograd`` (instalada ya en Google Colab) que facilitará implementar la diferenciación automática (utilizada en las librerías más importantes de *deep learning*) para calcular facilmente el gradiente de la función de pérdida. Esta librería sobrescribe la librería ``numpy`` por lo que ahora utilizaremos esa librería con el sobrenombre ``np`` como si fuese la librería original."
      ]
    },
    {
      "cell_type": "code",
      "execution_count": 1,
      "metadata": {
        "id": "UDxkpYSSdGy9"
      },
      "outputs": [],
      "source": [
        "# Numpy de autograd\n",
        "import autograd.numpy as np\n",
        "\n",
        "# Función de gradiente mediante diferenciación automática\n",
        "from autograd import grad\n",
        "\n",
        "# Permite utilizar isinstance y tuple en autograd\n",
        "from autograd.builtins import isinstance, tuple\n",
        "\n",
        "# Para graficar\n",
        "import matplotlib.pyplot as plt\n",
        "\n",
        "# Fijamos la semilla\n",
        "np.random.seed(115)\n",
        "\n",
        "# Módulo para anotar funciones\n",
        "from typing import Union\n",
        "\n",
        "# Para hacer DataFrames\n",
        "import pandas as pd\n",
        "\n",
        "# Notas:\n",
        "# Documentación de autograd: https://github.com/HIPS/autograd"
      ]
    },
    {
      "cell_type": "markdown",
      "metadata": {
        "id": "UCmed-4lboo_"
      },
      "source": [
        "Buscaremos ajustar la red neuronal a datos *sampleados* desde una función $\\text{cos}(x)$ con cierto ruido gaussiano. Generemos los datos antes de empezar el ejercicio."
      ]
    },
    {
      "cell_type": "code",
      "execution_count": 2,
      "metadata": {
        "id": "9SVDXCeyJLcF"
      },
      "outputs": [],
      "source": [
        "# Función a aproximar\n",
        "def f_true(x):\n",
        "    return np.cos(x)"
      ]
    },
    {
      "cell_type": "code",
      "execution_count": 3,
      "metadata": {
        "id": "e5XJWDWkcFvk"
      },
      "outputs": [],
      "source": [
        "xdim = 1  # Dimensión de input\n",
        "Ndata = 20  # Cantidad de datos a samplear\n",
        "ydim = 1  # Dimensión de output"
      ]
    },
    {
      "cell_type": "code",
      "execution_count": 4,
      "metadata": {
        "colab": {
          "base_uri": "https://localhost:8080/",
          "height": 564
        },
        "id": "HeC4Z01ZjlJE",
        "outputId": "91b79880-7c9a-4d78-946c-c1a02e51eedb"
      },
      "outputs": [
        {
          "data": {
            "image/png": "[encoded data removed]",
            "text/plain": [
              "<Figure size 800x600 with 1 Axes>"
            ]
          },
          "metadata": {},
          "output_type": "display_data"
        }
      ],
      "source": [
        "# Datos aleatorios\n",
        "x_train = np.random.random((xdim, Ndata))\n",
        "\n",
        "# Sampleo de datos\n",
        "desv = 3e-2\n",
        "y_train = f_true(x_train) + desv * np.random.randn(*x_train.shape)\n",
        "\n",
        "plt.figure(figsize=(8, 6))\n",
        "plt.scatter(x_train.flatten(), f_true(x_train).flatten(), label=\"Original\")\n",
        "plt.scatter(x_train.flatten(), y_train.flatten(), label=\"Ruidosa\")\n",
        "plt.xlabel(\"x\")\n",
        "plt.ylabel(\"y\")\n",
        "plt.title(\"Datos de entrenamiento con y sin ruido\")\n",
        "plt.legend()\n",
        "plt.show()"
      ]
    },
    {
      "cell_type": "markdown",
      "metadata": {
        "id": "EhYCbiTfNHdP"
      },
      "source": [
        "#### **Ejercicio 1.1: Creación de una red neuronal de 1 capa oculta**\n",
        "\n",
        "Cree una función en Python ``net(params, x)`` que dados los parámetros codificados en un arreglo de ``numpy`` tal como se mostró arriba y un conjunto de datos $x \\in \\mathbb{R}^{1 \\times N_{data}}$ calcule el output de la red. Pruebe su función con parámetros inicializados aleatoriamente desde una uniforme estándar y el arreglo ``x_train`` creado antes."
      ]
    },
    {
      "cell_type": "markdown",
      "metadata": {},
      "source": [
        "##### **Solución Ejercicio 1.1.**"
      ]
    },
    {
      "cell_type": "code",
      "execution_count": 5,
      "metadata": {
        "id": "8KOcCwUVcQ-3"
      },
      "outputs": [],
      "source": [
        "def net(params: np.array, x: np.array, sigma: callable = np.tanh) -> np.array:\n",
        "    \"\"\"\n",
        "    Realisación de la red neuronal a una capa oculta, de ancho batch_size=(params.shape[0] - 1)/3, con dimensión de entrada y salida 1.\n",
        "\n",
        "    En la capa de entrada, se aplica la función de activación tangente hiperbólica compuesta con la función afín\n",
        "    Wa*x + ba, donde Wa son los primeros batch_size parámetros de params y ba los siguientes batch_size.\n",
        "    De la segunda capa a la salida, se aplica la función afín Wb*x + bb (sin acivación), donde Wb son los siguientes batch_size parámetros\n",
        "    de params, después de haber asignado Wa y ba, y bb es el último parametro.\n",
        "\n",
        "    Se aplica esta red a cada dato de x.\n",
        "\n",
        "    Args:\n",
        "        params (np.array): Parámetros de la red neuronal.\n",
        "        x (np.array): Datos de entrada de la red neuronal.\n",
        "\n",
        "    Returns:\n",
        "        np.array: Datos de salida de la red neuronal.\n",
        "\n",
        "    Raises:\n",
        "        AssertionError: Si params no es un np.array.\n",
        "        AssertionError: Si x no es un np.array.\n",
        "        AssertionError: Si el número de parámetros no es correcto.\n",
        "        AssertionError: Si la dimensión de x no es correcta.\n",
        "    \"\"\"\n",
        "\n",
        "    assert isinstance(params, np.ndarray), \"params debe ser un np.array.\"\n",
        "    assert isinstance(x, np.ndarray), \"x debe ser un np.array.\"\n",
        "    assert params.shape[0] % 3 == 1, \"El número de parámetros no es correcto.\"\n",
        "    assert x.ndim == 1 or (\n",
        "        x.ndim == 2 and 1 in x.shape\n",
        "    ), \"La dimensión de x no es correcta.\"\n",
        "\n",
        "    shape = x.shape\n",
        "    x = np.squeeze(x)\n",
        "    params = np.squeeze(params)\n",
        "\n",
        "    batch_size = int((params.shape[0] - 1) / 3)\n",
        "    Wa = params[:batch_size]\n",
        "    ba = params[batch_size : 2 * batch_size]\n",
        "    Wb = params[2 * batch_size : 3 * batch_size]\n",
        "    bb = params[3 * batch_size]\n",
        "\n",
        "    def single_data_case(x: float) -> float:\n",
        "        x = sigma(Wa * x + ba)\n",
        "        x = Wb @ x + bb\n",
        "        return x\n",
        "\n",
        "    y = np.array([single_data_case(xi) for xi in x]).reshape(shape)\n",
        "\n",
        "    return y"
      ]
    },
    {
      "cell_type": "code",
      "execution_count": 6,
      "metadata": {},
      "outputs": [
        {
          "data": {
            "image/png": "[encoded data removed]",
            "text/plain": [
              "<Figure size 640x480 with 1 Axes>"
            ]
          },
          "metadata": {},
          "output_type": "display_data"
        }
      ],
      "source": [
        "ancho = 100  # Ancho de la red neuronal\n",
        "\n",
        "# Creamos un array de parámetros aleatorios mediante una uniforme estandard\n",
        "params = np.random.uniform(-1, 1, size=(3 * ancho + 1))\n",
        "\n",
        "y = net(params, x_train)\n",
        "\n",
        "# Creamos el plto\n",
        "plt.scatter(x_train, y)\n",
        "\n",
        "# Agregamos labels\n",
        "plt.xlabel(\"x_train\")\n",
        "plt.ylabel(\"net(params, x_train)\")\n",
        "plt.title(\"Gráfco de la red neuronal con parámetros aleatorios\")\n",
        "\n",
        "# Mostramos el plot\n",
        "plt.show()"
      ]
    },
    {
      "cell_type": "markdown",
      "metadata": {
        "id": "8ctGquuJezf-"
      },
      "source": [
        "#### **Ejercicio 1.2: Creación de la función de pérdida por *batches***\n",
        "\n",
        "La naturaleza estocástica del algoritmo proviene de que no se le entregan todos los datos de entrenamiento, sino que una muestra diferente en cada iteración de entrenamiento, dichas muestras las denotaremos *batches*. Implemente una función en Python ``loss(params)`` que dados unos parámetros ``params`` $\\theta$ haga lo siguiente:\n",
        "\n",
        "* Obtenga un subarreglo de tamaño $(1, N_{batches})$ de ``x_train`` de manera aleatoria y sin sustitución, digamos ``x_batch``.\n",
        "* Obtenga el ``y_batch`` correspondiente.\n",
        "* Calcule la pérdida cuadrática en este *batch*:\n",
        "\n",
        "$$ L(\\theta) = \\sum_{i=1}^{N_{batch}} (y_i - \\Phi_\\theta (x_i)) $$"
      ]
    },
    {
      "cell_type": "markdown",
      "metadata": {},
      "source": [
        "##### **Solución Ejercicio 1.2.**"
      ]
    },
    {
      "cell_type": "code",
      "execution_count": 7,
      "metadata": {
        "id": "8HG1i-j0np1V"
      },
      "outputs": [
        {
          "data": {
            "text/plain": [
              "14.952665636898379"
            ]
          },
          "execution_count": 7,
          "metadata": {},
          "output_type": "execute_result"
        }
      ],
      "source": [
        "def loss(\n",
        "    params: np.array,\n",
        "    x: np.array = x_train,\n",
        "    y: np.array = y_train,\n",
        "    batch_size: int = Ndata,\n",
        ") -> float:\n",
        "    \"\"\"\n",
        "    Función que toma un np.array de parametros para la red neuronal, y un np.array de datos x e y, y calcula el error cuadrático medio\n",
        "    de la red neuronal con los datos x e y, utilizando un batch de tamaño batch_size.\n",
        "\n",
        "    Args:\n",
        "        params (np.array): Parámetros de la red neuronal.\n",
        "        x (np.array, optional): Datos de entrada de la red neuronal. Defaults to x_train.\n",
        "        y (np.array, optional): Datos de salida de la red neuronal. Defaults to y_train.\n",
        "        batch_size (int, optional): Tamaño del batch. Defaults to Nbatch.\n",
        "\n",
        "    returns:\n",
        "        float: Error cuadrático medio de la red neuronal con los datos x e y.\n",
        "\n",
        "    Raises:\n",
        "        AssertionError: Si params no es un np.array.\n",
        "        AssertionError: Si x no es un np.array.\n",
        "        AssertionError: Si y no es un np.array.\n",
        "        AssertionError: Si batch_size no es un entero.\n",
        "        AssertionError: Si el número de parámetros no es correcto.\n",
        "        AssertionError: Si la dimensión de x no es correcta.\n",
        "        AssertionError: Si las dimensiones de x e y no son compatibles.\n",
        "        AssertionError: Si el tamaño del batch es muy grande.\n",
        "    \"\"\"\n",
        "\n",
        "    assert isinstance(params, np.ndarray), \"params debe ser un np.array.\"\n",
        "    assert isinstance(x, np.ndarray), \"x debe ser un np.array.\"\n",
        "    assert isinstance(y, np.ndarray), \"y debe ser un np.array.\"\n",
        "    assert isinstance(batch_size, int), \"batch_size debe ser un entero.\"\n",
        "\n",
        "    assert params.shape[0] % 3 == 1, \"El número de parámetros no es correcto.\"\n",
        "    assert x.ndim == 1 or (\n",
        "        x.ndim == 2 and 1 in x.shape\n",
        "    ), \"La dimensión de x no es correcta.\"\n",
        "    assert x.shape == y.shape, \"Las dimensiones de x e y no son compatibles.\"\n",
        "    assert batch_size <= np.squeeze(x).shape[0], \"El tamaño del batch es muy grande.\"\n",
        "\n",
        "    x = np.squeeze(x)\n",
        "    y = np.squeeze(y)\n",
        "\n",
        "    # Elejimos un batch aleatorio con probabilidad uniforme sobre x, sin substitucion\n",
        "    indices = np.random.choice(len(x), size=batch_size, replace=False)\n",
        "    x_batch = x[indices]\n",
        "\n",
        "    # Obtenemos el y_batch correspondiente\n",
        "    y_batch = net(params, x_batch)\n",
        "\n",
        "    # Calculamos la perdida en el batch\n",
        "    MSE = np.mean((y[indices] - y_batch) ** 2)\n",
        "\n",
        "    return MSE\n",
        "\n",
        "\n",
        "loss(params)"
      ]
    },
    {
      "cell_type": "markdown",
      "metadata": {
        "id": "Vx7Xx_d4hKLR"
      },
      "source": [
        "#### **Ejercicio 1.3: Cálculo del gradiente vía autodiferenciación y comparación con diferencias finitas**\n",
        "\n",
        "Con la función ``grad`` de ``autograd`` calcule el gradiente de la función de pérdida antes creada, con tamaño de *batch* igual a ``Ndata``, es decir, la función de pérdida se vuelve determinista en este caso (ya que le pasamos todos los datos al tomar los batches sin sustitución. Compare en norma este gradiente con el cálculado mediante por diferencias finitas centradas\n",
        "\n",
        "$$ \\frac{\\partial L}{ \\partial \\theta_j} (\\theta) \\approx \\frac{L(\\theta + \\varepsilon e_j) - L(\\theta - \\varepsilon e_j)}{2 \\varepsilon} $$\n",
        "\n",
        "Para $\\varepsilon \\in \\{ 10, 1, 0.1, 0.01 \\}$, evaluado los gradientes en los mismo parámetros utilizados en la parte anterior."
      ]
    },
    {
      "cell_type": "markdown",
      "metadata": {},
      "source": [
        "##### **Solución Ejercicio 1.3.**"
      ]
    },
    {
      "cell_type": "markdown",
      "metadata": {},
      "source": [
        "Para esta sección, usaremos un batch size igual a la cantidad de datos de entrenamiento, es decir, estos resultados son de caracter determinista en cuanto a la función de error."
      ]
    },
    {
      "cell_type": "code",
      "execution_count": 8,
      "metadata": {
        "id": "kgzhW_ZMiY51"
      },
      "outputs": [
        {
          "name": "stdout",
          "output_type": "stream",
          "text": [
            "Valores del gradiente de la loss function mediente diferencias finitas para eps en [10, 1, 0.1, 0.01]:\n",
            "\n",
            "eps = 10:\n",
            "[ 0.8008283   0.25818269 -0.65638094  0.12591751  0.23420846 -0.20324614\n",
            "  0.15275711  0.38221993 -0.14070376 -0.1482437  -0.64970102 -0.66419399\n",
            " -0.61114242  0.23500309 -0.64133686 -0.41573959 -0.05829669 -0.07691096\n",
            "  0.08944565 -0.05214265 -0.58838556 -0.66210256  0.13864835  0.03740866\n",
            "  0.52087032  0.60659993 -0.53568911  0.50130835 -0.10270263 -0.48062905\n",
            "  0.26263664 -0.42579433 -0.37680288 -0.29489311 -0.51132201 -0.0524447\n",
            " -0.15069943 -0.02423062 -0.50154864 -0.00907348 -0.0528813   0.09602913\n",
            " -0.54623448 -0.43905078  0.54429524 -0.00927513 -0.17254455 -0.06029223\n",
            " -0.52816642 -0.32129927  0.25957785 -0.59603722  0.38777264 -0.51417848\n",
            " -0.72007727  0.05727087 -0.23544479  0.46085257 -0.33110687 -0.43855188\n",
            "  0.4486197   0.52645711 -0.32130203  0.54184514  0.48974716  0.17358908\n",
            " -0.12140868 -0.67378555 -0.39460998 -0.51446628  0.20745918  0.04122092\n",
            "  0.29374912  0.07661563  0.66688078 -0.36759361 -0.02724037 -0.14010293\n",
            " -0.20440107 -0.30533908 -0.2892475   0.38893115  0.1356343  -0.73971851\n",
            " -0.31467133 -0.07249101  0.26208298 -0.13749653  0.23883147  0.72961213\n",
            "  0.13192342  0.40628685  0.43529577  0.60360844 -0.36845955  0.22326657\n",
            "  0.58200822 -0.17018324 -0.09638082  0.76662781  0.84357927  0.26272038\n",
            " -0.6693208   0.13153641  0.23823276 -0.20758392  0.15580695  0.38871238\n",
            " -0.14591857 -0.15202197 -0.6587935  -0.70059026 -0.62280554  0.24359937\n",
            " -0.6776202  -0.42320116 -0.06018931 -0.07829875  0.09103489 -0.05424023\n",
            " -0.59844908 -0.69803687  0.14264412  0.0387878   0.53186435  0.61978153\n",
            " -0.54597565  0.50990184 -0.10681782 -0.48899186  0.2687016  -0.43661317\n",
            " -0.38999082 -0.30101693 -0.51949794 -0.05387872 -0.15407572 -0.02498749\n",
            " -0.51821526 -0.00927047 -0.05385258  0.09859657 -0.55544679 -0.45338021\n",
            "  0.55613279 -0.00958244 -0.17579699 -0.06208816 -0.53990911 -0.32742614\n",
            "  0.2702157  -0.60572137  0.39456742 -0.52968173 -0.74207881  0.05944698\n",
            " -0.24199573  0.47093979 -0.3379382  -0.4468257   0.45731558  0.54524953\n",
            " -0.32869454  0.5513274   0.49814214  0.1769101  -0.125561   -0.70162112\n",
            " -0.40162353 -0.52739927  0.21133471  0.04195904  0.31172962  0.07799642\n",
            "  0.68096896 -0.37623286 -0.02814525 -0.14415277 -0.20842133 -0.3110191\n",
            " -0.29606185  0.39654336  0.13989667 -0.78054384 -0.32571101 -0.07444614\n",
            "  0.27081654 -0.14172784  0.24454963  0.76390562  0.13601336  0.41967504\n",
            "  0.44286683  0.61385502 -0.37531891  0.22818254  0.6111279  -0.17570894\n",
            " -0.09824008  0.79518019  3.62746631  2.71481993  0.48603077 -6.47163323\n",
            "  2.14808607 -0.37973112  3.43199209 -0.99738051 -5.24164593 -4.81764908\n",
            "  1.12388636 -4.05506909  2.04998692  2.57752555 -4.55609937  4.21533317\n",
            "  3.89840715  1.73391834  2.42536412  4.48172013  4.66016257 -4.90525575\n",
            "  5.13834529  2.33554537 -5.31176012 -1.37155202  0.21703566 -1.09557905\n",
            "  6.08558085  1.9442435  -4.67974757 -3.53535588 -5.40791731  3.41964648\n",
            "  1.22827801  3.55162867  0.88972761 -3.07990812 -1.01270598  2.87326485\n",
            "  1.99567121 -5.13878667  4.14266795 -2.38357837 -5.59750357  3.63663106\n",
            " -3.77124151  3.16029587  2.02447963  3.87486727 -6.44847118  4.28489592\n",
            " -2.45024352 -0.09472748 -4.31193646 -3.60790257  3.25459881 -2.75903689\n",
            "  4.94794758  0.95316622 -4.57873515  3.42350868 -2.90326905 -3.52902767\n",
            " -3.69218695 -2.15060759 -5.41557548 -5.95121002  1.97687818  6.21552056\n",
            " -1.81383255  1.34180407  6.63249046 -1.62613417 -0.24241625 -1.23858323\n",
            " -2.39260299 -2.34991734  0.48839967  4.29035509  4.70952602 -4.39373911\n",
            " -5.06412805 -4.7222989  -2.91298957  5.02557479  1.32529838 -5.4761975\n",
            " -5.40375211  5.80766477 -4.49672826  4.81842933 -0.18844512 -4.29382296\n",
            "  4.45066481 -5.13113488  3.62671932 -4.84394796  3.81805896  5.18859186\n",
            " -7.39451981]\n",
            "\n",
            "eps = 1:\n",
            "[ 3.28599881  1.14628209 -3.42043261  0.19549098  1.08079245 -1.05069244\n",
            "  0.6430919   2.00927598 -0.43311114 -0.47862742 -3.47415803 -2.60927393\n",
            " -3.05944693  1.11863179 -2.31348406 -1.68983408 -0.25390498 -0.3827522\n",
            "  0.41262383 -0.21004111 -2.53702034 -2.17984373  0.41370808  0.18344571\n",
            "  1.89009317  3.07223985 -2.79228347  2.62295476 -0.22335977 -2.51790599\n",
            "  0.99029428 -1.76964731 -0.98928358 -1.3747905  -2.70820594 -0.23562076\n",
            " -0.75361855 -0.11362459 -2.50190505 -0.04267669 -0.25421555  0.30387429\n",
            " -2.45200218 -2.08164575  1.84999357 -0.04143704 -0.66353382 -0.28365746\n",
            " -2.55541175 -1.38446308  0.44631617 -2.43390349  1.90636792 -2.59287548\n",
            " -2.52683595  0.25995847 -1.12696051  2.35152342 -1.13625849 -2.27002158\n",
            "  1.81272592  2.25337457 -1.45543349  2.64254047  2.2564826   0.86973475\n",
            " -0.34082258 -1.21427833 -2.04105835 -1.23372793  1.02346114  0.20787482\n",
            "  0.33443761  0.38428832  3.4576912  -1.85716781 -0.13360264 -0.68227612\n",
            " -1.05553645 -1.16498093 -1.10179401  1.58211408  0.46919394 -2.52919324\n",
            " -1.4508202  -0.23794928  1.31082215 -0.35752443  0.68771217  1.53757726\n",
            "  0.52626962  1.32255819  2.26078998  2.7897504  -1.40953626  0.69047525\n",
            "  2.4401173  -0.57822336 -0.39117944  2.08469285  5.21303525  1.80924171\n",
            " -5.09879752  0.42110098  1.67728703 -1.56563032  1.03655869  2.96115215\n",
            " -0.76167446 -0.84672604 -5.03227412 -4.17227545 -4.64890806  1.69371988\n",
            " -3.78771619 -2.76463972 -0.39506839 -0.57950203  0.64269357 -0.33137231\n",
            " -3.9637046  -3.68954393  0.74869541  0.27255919  3.12978125  4.6502573\n",
            " -4.1561695   3.89071743 -0.43488051 -3.68166841  1.64595374 -2.85666462\n",
            " -1.86091122 -2.11373481 -3.95831249 -0.36571887 -1.13719858 -0.17293839\n",
            " -3.77199304 -0.06572236 -0.39017666  0.53758416 -3.81650348 -3.18661643\n",
            "  3.10596425 -0.06393354 -1.10818546 -0.43080493 -3.94485509 -2.20729058\n",
            "  0.92489787 -3.9989279   2.90232049 -3.91023245 -4.32900311  0.39468203\n",
            " -1.69236567  3.43208723 -1.96912816 -3.39061719  2.93786226  3.5707388\n",
            " -2.2776644   3.96042925  3.49809787  1.30824228 -0.62295422 -2.59718195\n",
            " -3.01744071 -2.31744368  1.55748449  0.31279467  0.78361504  0.5799544\n",
            "  5.16829161 -2.79245077 -0.19943004 -1.03085948 -1.57555894 -1.95697043\n",
            " -1.81929847  2.56742841  0.79265051 -4.2326508  -2.23062585 -0.41531081\n",
            "  1.96017535 -0.67772402  1.26447268  3.07121472  0.84521006  2.3123702\n",
            "  3.31263686  4.22979096 -2.359105    1.24448515  3.83562041 -0.9916079\n",
            " -0.64041955  3.88127805  3.62746631  2.71481993  0.48603077 -6.47163323\n",
            "  2.14808607 -0.37973112  3.43199209 -0.99738051 -5.24164593 -4.81764908\n",
            "  1.12388636 -4.05506909  2.04998692  2.57752555 -4.55609937  4.21533317\n",
            "  3.89840715  1.73391834  2.42536412  4.48172013  4.66016257 -4.90525575\n",
            "  5.13834529  2.33554537 -5.31176012 -1.37155202  0.21703566 -1.09557905\n",
            "  6.08558085  1.9442435  -4.67974757 -3.53535588 -5.40791731  3.41964648\n",
            "  1.22827801  3.55162867  0.88972761 -3.07990812 -1.01270598  2.87326485\n",
            "  1.99567121 -5.13878667  4.14266795 -2.38357837 -5.59750357  3.63663106\n",
            " -3.77124151  3.16029587  2.02447963  3.87486727 -6.44847118  4.28489592\n",
            " -2.45024352 -0.09472748 -4.31193646 -3.60790257  3.25459881 -2.75903689\n",
            "  4.94794758  0.95316622 -4.57873515  3.42350868 -2.90326905 -3.52902767\n",
            " -3.69218695 -2.15060759 -5.41557548 -5.95121002  1.97687818  6.21552056\n",
            " -1.81383255  1.34180407  6.63249046 -1.62613417 -0.24241625 -1.23858323\n",
            " -2.39260299 -2.34991734  0.48839967  4.29035509  4.70952602 -4.39373911\n",
            " -5.06412805 -4.7222989  -2.91298957  5.02557479  1.32529838 -5.4761975\n",
            " -5.40375211  5.80766477 -4.49672826  4.81842933 -0.18844512 -4.29382296\n",
            "  4.45066481 -5.13113488  3.62671932 -4.84394796  3.81805896  5.18859186\n",
            " -7.39451981]\n",
            "\n",
            "eps = 0.1:\n",
            "[ 3.51603604  1.19627595 -3.99152834  0.16066088  1.14587902 -1.22266811\n",
            "  0.65901293  2.34492976 -0.40136435 -0.44684859 -4.05367913 -2.73059\n",
            " -3.43601475  1.27236427 -2.32291166 -1.6963575  -0.27267098 -0.42919645\n",
            "  0.43941372 -0.21882741 -2.63826159 -2.09613356  0.37846449  0.21136315\n",
            "  1.82589359  3.49792936 -3.25847768  3.05168221 -0.19102307 -2.93397894\n",
            "  0.97329196 -1.82339395 -0.87876384 -1.49933114 -3.16414456 -0.25508737\n",
            " -0.84678504 -0.12712661 -2.9011073  -0.04685059 -0.27750213  0.282121\n",
            " -2.59257194 -2.3513905   1.74598157 -0.04520306 -0.6521511  -0.31721136\n",
            " -2.80806525 -1.43450802  0.36921891 -2.43287284  2.11914318 -2.9933017\n",
            " -2.43112779  0.2883192  -1.26927169  2.72043974 -1.07554335 -2.62581559\n",
            "  1.82441812  2.40690826 -1.56492497  2.95087917  2.41697861  0.98840542\n",
            " -0.30739783 -1.01875197 -2.36315554 -1.06380703  1.13862079  0.23517002\n",
            "  0.26883833  0.43362223  4.03448864 -2.14533899 -0.15358168 -0.77777303\n",
            " -1.21970016 -1.14132588 -1.08846215  1.59681272  0.45057866 -2.47312599\n",
            " -1.61754087 -0.22343845  1.51847625 -0.31710434  0.62230146  1.309436\n",
            "  0.53787567  1.24368045  2.57780971  3.02333248 -1.38216751  0.63582793\n",
            "  2.63091429 -0.55206551 -0.39361335  1.86396953  5.51149583  2.11998825\n",
            " -6.67412821  0.31935339  2.01371608 -2.0233976   1.16897773  3.87448346\n",
            " -0.70031555 -0.8299885  -6.58455318 -4.273271   -5.92451343  2.00903437\n",
            " -3.66921285 -3.07473872 -0.43714277 -0.73149555  0.77215453 -0.3447805\n",
            " -4.3282631  -3.40155734  0.70319798  0.3289802   3.09208578  5.96477997\n",
            " -5.43556324  5.10295756 -0.35497526 -4.7314972   1.71233378 -3.1364716\n",
            " -1.64140299 -2.49721037 -5.17331733 -0.41740603 -1.43195898 -0.20272637\n",
            " -4.69483895 -0.07864014 -0.48147481  0.51688594 -4.37201278 -3.79432866\n",
            "  2.93489176 -0.0720607  -1.20688575 -0.5058837  -4.90933677 -2.51160801\n",
            "  0.71099906 -4.50871909  3.63384389 -4.93494318 -4.28862916  0.44698532\n",
            " -2.0033142   4.24280747 -2.0018152  -4.41489397  3.16996847  3.92625844\n",
            " -2.6544876   4.76798394  4.12903934  1.64682871 -0.56047799 -2.06697461\n",
            " -3.87198913 -1.93302975  1.95739447  0.39828408  0.55364588  0.73606447\n",
            "  6.73230576 -3.53501119 -0.24153483 -1.25219423 -2.04164035 -2.12800653\n",
            " -1.89177896  2.80353243  0.77073137 -3.9777237  -2.58721311 -0.40429626\n",
            "  2.4297223  -0.60701111  1.19531004  2.46030002  0.88474592  2.20580823\n",
            "  4.23161096  4.81420645 -2.54803639  1.22140942  4.11864224 -0.96271113\n",
            " -0.71275572  3.42180685  3.62746631  2.71481993  0.48603077 -6.47163323\n",
            "  2.14808607 -0.37973112  3.43199209 -0.99738051 -5.24164593 -4.81764908\n",
            "  1.12388636 -4.05506909  2.04998692  2.57752555 -4.55609937  4.21533317\n",
            "  3.89840715  1.73391834  2.42536412  4.48172013  4.66016257 -4.90525575\n",
            "  5.13834529  2.33554537 -5.31176012 -1.37155202  0.21703566 -1.09557905\n",
            "  6.08558085  1.9442435  -4.67974757 -3.53535588 -5.40791731  3.41964648\n",
            "  1.22827801  3.55162867  0.88972761 -3.07990812 -1.01270598  2.87326485\n",
            "  1.99567121 -5.13878667  4.14266795 -2.38357837 -5.59750357  3.63663106\n",
            " -3.77124151  3.16029587  2.02447963  3.87486727 -6.44847118  4.28489592\n",
            " -2.45024352 -0.09472748 -4.31193646 -3.60790257  3.25459881 -2.75903689\n",
            "  4.94794758  0.95316622 -4.57873515  3.42350868 -2.90326905 -3.52902767\n",
            " -3.69218695 -2.15060759 -5.41557548 -5.95121002  1.97687818  6.21552056\n",
            " -1.81383255  1.34180407  6.63249046 -1.62613417 -0.24241625 -1.23858323\n",
            " -2.39260299 -2.34991734  0.48839967  4.29035509  4.70952602 -4.39373911\n",
            " -5.06412805 -4.7222989  -2.91298957  5.02557479  1.32529838 -5.4761975\n",
            " -5.40375211  5.80766477 -4.49672826  4.81842933 -0.18844512 -4.29382296\n",
            "  4.45066481 -5.13113488  3.62671932 -4.84394796  3.81805896  5.18859186\n",
            " -7.39451981]\n",
            "\n",
            "eps = 0.01:\n",
            "[ 3.51822066  1.19656666 -3.99874248  0.1603048   1.14638487 -1.22483026\n",
            "  0.6590251   2.34917633 -0.40090567 -0.44639189 -4.06092719 -2.73145512\n",
            " -3.44017011  1.27424292 -2.32237672 -1.69597068 -0.27284755 -0.42971264\n",
            "  0.43963269 -0.21888166 -2.63874901 -2.09453728  0.37799634  0.21171287\n",
            "  1.8246059   3.50286189 -3.26438037  3.05705189 -0.19065889 -2.93923809\n",
            "  0.97282079 -1.8235402  -0.87741449 -1.50057865 -3.16991114 -0.25527792\n",
            " -0.84781623 -0.12728273 -2.90612194 -0.04689388 -0.27773029  0.28181292\n",
            " -2.59360801 -2.35460091  1.74428367 -0.04524234 -0.6518575  -0.317598\n",
            " -2.81060397 -1.4347217   0.36841255 -2.43220771  2.12142525 -2.99818632\n",
            " -2.42934088  0.28864234 -1.27094988  2.7250704  -1.0746017  -2.63018863\n",
            "  1.82402912  2.40827724 -1.56591979  2.95432775  2.41835928  0.98980669\n",
            " -0.30696812 -1.01669856 -2.36716787 -1.06183893  1.13985512  0.23548307\n",
            "  0.26819739  0.43418384  4.04178417 -2.1489301  -0.15383083 -0.77893489\n",
            " -1.22171163 -1.14076768 -1.08799556  1.59653402  0.45023716 -2.47173121\n",
            " -1.61945225 -0.22321984  1.52107484 -0.31661988  0.6214777   1.30688904\n",
            "  0.53786765  1.24246342  2.58147859  3.02559162 -1.38149131  0.63510179\n",
            "  2.63282805 -0.55161512 -0.39353729  1.86118991  5.5118694   2.12334177\n",
            " -6.69615436  0.31813106  2.01765975 -2.0296447   1.17012745  3.88722971\n",
            " -0.69904715 -0.82923989 -6.60605511 -4.27167344 -5.94138676  2.01260352\n",
            " -3.665015   -3.07723509 -0.43743111 -0.73346922  0.77366331 -0.34471636\n",
            " -4.32979386 -3.3953935   0.70217195  0.32966527  3.08907094  5.98239865\n",
            " -5.45342656  5.11996344 -0.35387216 -4.74555314  1.71199578 -3.13807401\n",
            " -1.63770523 -2.50121874 -5.19018048 -0.41786356 -1.43577688 -0.20303996\n",
            " -4.70666038 -0.07878312 -0.48260851  0.51627998 -4.37679672 -3.80108497\n",
            "  2.93034932 -0.07212886 -1.20758787 -0.50667614 -4.92150678 -2.51433235\n",
            "  0.70835808 -4.51344564  3.64314858 -4.94836943 -4.28466198  0.44746738\n",
            " -2.00670022  4.25284621 -2.00102042 -4.42906384  3.17083551  3.92837049\n",
            " -2.65820934  4.77686016  4.13559634  1.6511709  -0.55934443 -2.06000275\n",
            " -3.88340857 -1.92739101  1.96254949  0.39941476  0.55112868  0.73811427\n",
            "  6.75397017 -3.54469527 -0.24204261 -1.25482084 -2.04802878 -2.12920968\n",
            " -1.8913538   2.80485921  0.76986558 -3.97147123 -2.59080672 -0.4038776\n",
            "  2.43571503 -0.60579838  1.19376856  2.45195984  0.88460859  2.2027956\n",
            "  4.24382459  4.8188905  -2.54913573  1.22044362  4.11987503 -0.96161758\n",
            " -0.71335267  3.41378981  3.62746631  2.71481993  0.48603077 -6.47163323\n",
            "  2.14808607 -0.37973112  3.43199209 -0.99738051 -5.24164593 -4.81764908\n",
            "  1.12388636 -4.05506909  2.04998692  2.57752555 -4.55609937  4.21533317\n",
            "  3.89840715  1.73391834  2.42536412  4.48172013  4.66016257 -4.90525575\n",
            "  5.13834529  2.33554537 -5.31176012 -1.37155202  0.21703566 -1.09557905\n",
            "  6.08558085  1.9442435  -4.67974757 -3.53535588 -5.40791731  3.41964648\n",
            "  1.22827801  3.55162867  0.88972761 -3.07990812 -1.01270598  2.87326485\n",
            "  1.99567121 -5.13878667  4.14266795 -2.38357837 -5.59750357  3.63663106\n",
            " -3.77124151  3.16029587  2.02447963  3.87486727 -6.44847118  4.28489592\n",
            " -2.45024352 -0.09472748 -4.31193646 -3.60790257  3.25459881 -2.75903689\n",
            "  4.94794758  0.95316622 -4.57873515  3.42350868 -2.90326905 -3.52902767\n",
            " -3.69218695 -2.15060759 -5.41557548 -5.95121002  1.97687818  6.21552056\n",
            " -1.81383255  1.34180407  6.63249046 -1.62613417 -0.24241625 -1.23858323\n",
            " -2.39260299 -2.34991734  0.48839967  4.29035509  4.70952602 -4.39373911\n",
            " -5.06412805 -4.7222989  -2.91298957  5.02557479  1.32529838 -5.4761975\n",
            " -5.40375211  5.80766477 -4.49672826  4.81842933 -0.18844512 -4.29382296\n",
            "  4.45066481 -5.13113488  3.62671932 -4.84394796  3.81805896  5.18859186\n",
            " -7.39451981]\n",
            "\n"
          ]
        }
      ],
      "source": [
        "# Cálculo de gradiente mediante diferencias finitas\n",
        "def finite_diff_grad(params: np.array, eps: Union[int, float] = 1e-2) -> np.array:\n",
        "    \"\"\"\n",
        "    Función que toma un np.array de parametros para la red neuronal, y calcula el gradiente de la función de perdida\n",
        "    con respecto a los parametros mediante diferencias finitas.\n",
        "\n",
        "    Args:\n",
        "        params (np.array): Parámetros de la red neuronal.\n",
        "        eps (float, optional): Tamaño del paso para las diferencias finitas. Defaults to 1e-2.\n",
        "\n",
        "    Returns:\n",
        "        np.array: Gradiente de la función de perdida con respecto a los parametros evaluada en params.\n",
        "\n",
        "    Raises:\n",
        "        AssertionError: Si params no es un np.array.\n",
        "        AssertionError: Si eps no es un flotante.\n",
        "    \"\"\"\n",
        "\n",
        "    assert isinstance(params, np.ndarray), \"params debe ser un np.array.\"\n",
        "    assert isinstance(eps, (int, float)), \"eps debe ser un flotante.\"\n",
        "\n",
        "    grad = np.zeros(params.shape)\n",
        "\n",
        "    for i in range(len(params)):\n",
        "        params[i] += eps\n",
        "        loss_plus = loss(params)\n",
        "        params[i] -= 2 * eps\n",
        "        loss_minus = loss(params)\n",
        "        params[i] += eps\n",
        "        grad[i] = (loss_plus - loss_minus) / (2 * eps)\n",
        "\n",
        "    return grad\n",
        "\n",
        "\n",
        "eps = [10, 1, 0.1, 0.01]\n",
        "\n",
        "print(\n",
        "    f\"Valores del gradiente de la loss function mediente diferencias finitas para eps en {eps}:\"\n",
        ")\n",
        "print()\n",
        "finite_gradients = []\n",
        "for e in eps:\n",
        "    print(f\"eps = {e}:\")\n",
        "    gradient = (e, finite_diff_grad(params, e))\n",
        "    finite_gradients.append(gradient)\n",
        "    print(gradient[1])\n",
        "    print()"
      ]
    },
    {
      "cell_type": "code",
      "execution_count": 9,
      "metadata": {},
      "outputs": [
        {
          "name": "stdout",
          "output_type": "stream",
          "text": [
            "Gradiente de la función de pérdida mediante autograd:\n",
            "\n",
            "[ 3.51824269  1.19656956 -3.99881554  0.1603012   1.14638996 -1.22485216\n",
            "  0.6590252   2.34921934 -0.40090102 -0.44638726 -4.06100059 -2.7314638\n",
            " -3.44021211  1.27426194 -2.32237122 -1.69596672 -0.27284933 -0.42971786\n",
            "  0.43963489 -0.2188822  -2.63875385 -2.09452106  0.3779916   0.21171641\n",
            "  1.82459281  3.50291178 -3.26444015  3.05710627 -0.1906552  -2.93929136\n",
            "  0.97281599 -1.82354162 -0.87740084 -1.50059125 -3.16996955 -0.25527985\n",
            " -0.84782666 -0.12728431 -2.90617272 -0.04689432 -0.27773259  0.2818098\n",
            " -2.59361841 -2.3546334   1.74426644 -0.04524274 -0.65185451 -0.31760192\n",
            " -2.8106296  -1.43472382  0.3684044  -2.43220091  2.12144831 -2.99823577\n",
            " -2.42932273  0.28864561 -1.27096686  2.72511729 -1.07459215 -2.6302329\n",
            "  1.82402512  2.40829103 -1.56592981  2.95436262  2.41837318  0.98982087\n",
            " -0.30696377 -1.01667781 -2.3672085  -1.06181902  1.13986759  0.23548624\n",
            "  0.26819092  0.43418952  4.04185806 -2.14896647 -0.15383335 -0.77894665\n",
            " -1.221732   -1.140762   -1.08799081  1.59653115  0.45023369 -2.47171701\n",
            " -1.61947159 -0.22321762  1.52110115 -0.31661497  0.62146937  1.30686329\n",
            "  0.53786755  1.24245108  2.5815157   3.02561441 -1.38148443  0.63509443\n",
            "  2.63284737 -0.55161055 -0.39353651  1.86116178  5.51187276  2.12337565\n",
            " -6.69637774  0.3181187   2.01769964 -2.02970803  1.17013902  3.88735897\n",
            " -0.69903426 -0.82923225 -6.60627313 -4.27165691 -5.94155774  2.01263961\n",
            " -3.66497219 -3.07726018 -0.437434   -0.73348922  0.77367857 -0.34471568\n",
            " -4.32980895 -3.39533083  0.70216151  0.32967221  3.08904013  5.98257721\n",
            " -5.45360772  5.12013591 -0.35386098 -4.74569558  1.71199222 -3.13808998\n",
            " -1.63766771 -2.5012592  -5.19035147 -0.41786816 -1.43581556 -0.20304312\n",
            " -4.70678012 -0.07878456 -0.48261999  0.5162738  -4.37684484 -3.80115325\n",
            "  2.93030308 -0.07212955 -1.20759491 -0.50668415 -4.92163001 -2.51435978\n",
            "  0.70833136 -4.51349329  3.6432428  -4.94850547 -4.2846214   0.44747224\n",
            " -2.00673443  4.25294784 -2.00101223 -4.42920752  3.17084402  3.92839156\n",
            " -2.65824688  4.77694983  4.13566252  1.65121487 -0.55933292 -2.05993216\n",
            " -3.8835243  -1.92733387  1.9626017   0.39942621  0.55110324  0.73813504\n",
            "  6.75418985 -3.54479337 -0.24204775 -1.25484742 -2.04809355 -2.12922175\n",
            " -1.89134933  2.80487242  0.76985675 -3.9714076  -2.59084299 -0.40387333\n",
            "  2.43577573 -0.60578608  1.19375288  2.45187538  0.88460712  2.20276491\n",
            "  4.24394836  4.81893755 -2.54914671  1.22043376  4.11988722 -0.96160643\n",
            " -0.71335867  3.41370843  3.62746631  2.71481993  0.48603077 -6.47163323\n",
            "  2.14808607 -0.37973112  3.43199209 -0.99738051 -5.24164593 -4.81764908\n",
            "  1.12388636 -4.05506909  2.04998692  2.57752555 -4.55609937  4.21533317\n",
            "  3.89840715  1.73391834  2.42536412  4.48172013  4.66016257 -4.90525575\n",
            "  5.13834529  2.33554537 -5.31176012 -1.37155202  0.21703566 -1.09557905\n",
            "  6.08558085  1.9442435  -4.67974757 -3.53535588 -5.40791731  3.41964648\n",
            "  1.22827801  3.55162867  0.88972761 -3.07990812 -1.01270598  2.87326485\n",
            "  1.99567121 -5.13878667  4.14266795 -2.38357837 -5.59750357  3.63663106\n",
            " -3.77124151  3.16029587  2.02447963  3.87486727 -6.44847118  4.28489592\n",
            " -2.45024352 -0.09472748 -4.31193646 -3.60790257  3.25459881 -2.75903689\n",
            "  4.94794758  0.95316622 -4.57873515  3.42350868 -2.90326905 -3.52902767\n",
            " -3.69218695 -2.15060759 -5.41557548 -5.95121002  1.97687818  6.21552056\n",
            " -1.81383255  1.34180407  6.63249046 -1.62613417 -0.24241625 -1.23858323\n",
            " -2.39260299 -2.34991734  0.48839967  4.29035509  4.70952602 -4.39373911\n",
            " -5.06412805 -4.7222989  -2.91298957  5.02557479  1.32529838 -5.4761975\n",
            " -5.40375211  5.80766477 -4.49672826  4.81842933 -0.18844512 -4.29382296\n",
            "  4.45066481 -5.13113488  3.62671932 -4.84394796  3.81805896  5.18859186\n",
            " -7.39451981]\n"
          ]
        }
      ],
      "source": [
        "# Calculamos el gradiente mediante grad de autograd\n",
        "grad_loss = grad(loss)\n",
        "\n",
        "print(\"Gradiente de la función de pérdida mediante autograd:\")\n",
        "print()\n",
        "auto_gradient = grad_loss(params)\n",
        "print(auto_gradient)"
      ]
    },
    {
      "cell_type": "markdown",
      "metadata": {},
      "source": [
        "Comparamos los resultados del gradiente mediente autograd y diferencias finitas para cada $\\varepsilon$ especificado."
      ]
    },
    {
      "cell_type": "code",
      "execution_count": 10,
      "metadata": {},
      "outputs": [
        {
          "name": "stdout",
          "output_type": "stream",
          "text": [
            "  eps  gradient error\n",
            "10.00       30.875857\n",
            " 1.00        6.007752\n",
            " 0.10        0.078692\n",
            " 0.01        0.000789\n"
          ]
        }
      ],
      "source": [
        "gradient_error = []\n",
        "\n",
        "for e, finite_gradient in finite_gradients:\n",
        "    error = np.linalg.norm(auto_gradient - finite_gradient)\n",
        "    gradient_error.append((e, error))\n",
        "\n",
        "gradient_error_df = pd.DataFrame(gradient_error, columns=[\"eps\", \"gradient error\"])\n",
        "\n",
        "print(gradient_error_df.to_string(index=False))"
      ]
    },
    {
      "cell_type": "markdown",
      "metadata": {
        "id": "ksm7JUDDhAfT"
      },
      "source": [
        "#### **Ejercicio 1.4: Implementación de Adam**\n",
        "\n",
        "Vuelva a calcular el gradiente de la función de pérdida, pero ahora utilizando un tamaño de batch de $5$ (ahora sí se vuelve aleatoria la función de pérdida). Utilice 10000 iteraciones para el algoritmo y los mismos parámetros $\\alpha, \\beta_1, \\beta_2, \\varepsilon$ del artículo original. Grafique la evolución de la función de pérdida a través de las iteraciones en escala log-log (escala logarítmica en ambos ejes) y el resultado de la red en contraste con los datos y la función sin ruido evaluada en los puntos de entrenamiento."
      ]
    },
    {
      "cell_type": "markdown",
      "metadata": {},
      "source": [
        "##### **Solución Ejercicio 1.4.**"
      ]
    },
    {
      "cell_type": "code",
      "execution_count": 11,
      "metadata": {
        "id": "iiKLJuifxE_X"
      },
      "outputs": [],
      "source": [
        "def ADAM(\n",
        "    param0: np.array,\n",
        "    f: callable,\n",
        "    alpha: float = 0.001,\n",
        "    beta1: float = 0.9,\n",
        "    beta2: float = 0.999,\n",
        "    eps: float = 1e-8,\n",
        "    max_iter: int = 10000,\n",
        "    min_error: float = 0.0,\n",
        ") -> np.array:\n",
        "    \"\"\"\n",
        "    Función que recibe un np.array de parametros iniciales, una función de costo, y los hiperparámetros alpha, beta1, beta2 y eps\n",
        "    para el optimizador ADAM, y retorna un np.array de parámetros optimizados para la función de costo f.\n",
        "\n",
        "    Args:\n",
        "        param0 (np.array): Parámetros iniciales.\n",
        "        f (callable): Función de costo estocástica.\n",
        "        alpha (float, optional): Cota superior para los pasos. Defaults to 0.001.\n",
        "        beta1 (float, optional): Taza de decaimiento exponencial para el promedio de los gradientes. Defaults to 0.9.\n",
        "        beta2 (float, optional): Taza de decaimiento exponencial para el promedio de los gradientes al cuadrado. Defaults to 0.999.\n",
        "        eps (float, optional): Término de regularización. Defaults to 1e-8.\n",
        "        max_iter (int, optional): Número máximo de iteraciones. Defaults to 10000.\n",
        "        min_error (float, optional): Error mínimo. Defaults to 0.0.\n",
        "\n",
        "    Returns:\n",
        "        np.array: Parámetros optimizados para la función de costo f.\n",
        "\n",
        "    Raises:\n",
        "        AssertionError: Si param0 no es un np.array.\n",
        "        AssertionError: Si f no es callable.\n",
        "        AssertionError: Si alpha no es un flotante.\n",
        "        AssertionError: Si beta1 no es un flotante.\n",
        "        AssertionError: Si beta2 no es un flotante.\n",
        "        AssertionError: Si eps no es un flotante.\n",
        "        AssertionError: Si max_iter no es un entero.\n",
        "        AssertionError: Si min_error no es un flotante.\n",
        "        AssertionError: Si alpha no es positivo.\n",
        "        AssertionError: Si beta1 no es un no negativo menor que 1.\n",
        "        AssertionError: Si beta2 no es un no negativo menor que 1.\n",
        "        AssertionError: Si eps no es positivo.\n",
        "        AssertionError: Si max_iter no es positivo.\n",
        "        AssertionError: Si min_error no es no negativo.\n",
        "        AssertionError: Si el número de parámetros no es correcto.\n",
        "    \"\"\"\n",
        "    assert isinstance(param0, np.ndarray), \"param0 debe ser un np.array.\"\n",
        "    assert callable(f), \"f debe ser callable\"\n",
        "    assert isinstance(alpha, float), \"alpha debe ser un flotante.\"\n",
        "    assert isinstance(beta1, float), \"beta1 debe ser un flotante\"\n",
        "    assert isinstance(beta2, float), \"beta2 debe ser un flotante\"\n",
        "    assert isinstance(eps, float), \"eps debe ser un punto flotante\"\n",
        "    assert isinstance(max_iter, int), \"max_iter debe ser un int\"\n",
        "    assert isinstance(min_error, float), \"min_error debe ser un punto flotante\"\n",
        "    assert alpha > 0, \"alpha debe ser positivo\"\n",
        "    assert 0<=beta1 and beta1<1, \"beta1 debe ser un no negativo menor que 1\"\n",
        "    assert 0<=beta2 and beta2<1, \"beta2 debe ser un no negativo menor que 1\"\n",
        "    assert eps > 0, \"eps debe ser positivo\"\n",
        "    assert max_iter > 0, \"max_iter debe ser positivo\"\n",
        "    assert min_error >= 0, \"min_error debe ser no negativo\"\n",
        "    assert param0.shape[0] % 3 == 1, \"El número de parámetros no es correcto.\"\n",
        "\n",
        "    m = [np.zeros_like(param0)]  # Inicializamos el primer momento estimado\n",
        "    v = [np.zeros_like(param0)]  # Inicializamos el segundo momento estimado\n",
        "    t = [0]  # Inicializamos el contador de pasos\n",
        "\n",
        "    g = [None]\n",
        "    m_hat = [None]\n",
        "    v_hat = [None]\n",
        "\n",
        "    params = [param0]  # Inicializamos los parámetros\n",
        "\n",
        "    grad_f = grad(f)\n",
        "\n",
        "    while t[-1] < max_iter and f(params[-1]) > min_error:\n",
        "        t.append(t[-1] + 1)\n",
        "        g.append(grad_f(params[-1]))  # Obtener gradiente c.r. al objetivo estocástico\n",
        "        m.append(\n",
        "            beta1 * m[-1] + (1 - beta1) * g[-1]\n",
        "        )  # Actualizamos el primer momento estimado sesgado\n",
        "        v.append(\n",
        "            beta2 * v[-1] + (1 - beta2) * g[-1] ** 2\n",
        "        )  # Actualizamos el segundo momento estimado sesgado\n",
        "        m_hat.append(\n",
        "            m[-1] / (1 - beta1 ** t[-1])\n",
        "        )  # Calculamos el primer momento estimado corregido\n",
        "        v_hat.append(\n",
        "            v[-1] / (1 - beta2 ** t[-1])\n",
        "        )  # Calculamos el segundo momento estimado corregido\n",
        "        params.append(\n",
        "            params[-1] - alpha * m_hat[-1] / (np.sqrt(v_hat[-1]) + eps)\n",
        "        )  # Actualizamos los parámetros\n",
        "\n",
        "    return params  # Parametros resultante"
      ]
    },
    {
      "cell_type": "code",
      "execution_count": 12,
      "metadata": {},
      "outputs": [],
      "source": [
        "f = lambda params: loss(params, batch_size=5)\n",
        "params_opt = ADAM(params, f)"
      ]
    },
    {
      "cell_type": "markdown",
      "metadata": {},
      "source": [
        "A continuación, graficamos el loss asociado a los parámetros obtenidos en cada iteración del algoritmo. Para esto, calculamos dos errroes por cada iteración\n",
        "* Error determinista: este error corresponde al error inducio por los parámetros en un bache de tamaño máximo (usando todos los datos).\n",
        "* Error estocástico: este error es el error asociado al baches aleatorios de tamaño 5, no necesariamente los mismos utilizados en el entrenamiento."
      ]
    },
    {
      "cell_type": "code",
      "execution_count": 13,
      "metadata": {},
      "outputs": [
        {
          "data": {
            "image/png": "[encoded data removed]",
            "text/plain": [
              "<Figure size 800x600 with 1 Axes>"
            ]
          },
          "metadata": {},
          "output_type": "display_data"
        }
      ],
      "source": [
        "iters = list(range(len(params_opt)))\n",
        "\n",
        "deterministic_error = [loss(param) for param in params_opt]\n",
        "stochastic_error = [loss(param, batch_size = 5) for param in params_opt]\n",
        "\n",
        "plt.figure(figsize=(8, 6))\n",
        "plt.plot(iters, stochastic_error, label=\"Error estocástico\")\n",
        "plt.plot(iters, deterministic_error, label=\"Error determinísta\")\n",
        "plt.xlabel(\"Iteraciones\")\n",
        "plt.ylabel(\"Error\")\n",
        "plt.xscale(\"log\")\n",
        "plt.yscale(\"log\")\n",
        "plt.title(\"Error en función de las iteraciones\")\n",
        "plt.legend()\n",
        "plt.show()"
      ]
    },
    {
      "cell_type": "code",
      "execution_count": 14,
      "metadata": {},
      "outputs": [
        {
          "data": {
            "image/png": "[encoded data removed]",
            "text/plain": [
              "<Figure size 800x600 with 1 Axes>"
            ]
          },
          "metadata": {},
          "output_type": "display_data"
        }
      ],
      "source": [
        "x_test = x_train\n",
        "y = net(params_opt[-1], x_test)\n",
        "\n",
        "plt.figure(figsize=(8, 6))\n",
        "plt.scatter(x_train.flatten(), y_train.flatten(), label=\"Datos de entrenamiento\")\n",
        "plt.scatter(x_train.flatten(), f_true(x_train).flatten(), label=\"Datos originales\")\n",
        "plt.scatter(x_test.flatten(), y.flatten(), label=\"Predicción\")\n",
        "plt.xlabel(\"x\")\n",
        "plt.ylabel(\"y\")\n",
        "plt.title(\"Predicción de la red neuronal\")\n",
        "plt.legend()\n",
        "plt.show()"
      ]
    },
    {
      "cell_type": "markdown",
      "metadata": {
        "id": "4aq1aV5BXBWZ"
      },
      "source": [
        "### **Ejercicio 2: Aproximación de esperanzas condicionales vía redes neuronales**\n",
        "\n",
        "Sean $X$, $Y$ variables aleatorias y $f$ una función continua, luego es sabido de clases que el problema de encontrar una función que minimice el error cuadrático medio\n",
        "\n",
        "$$  \\min_{f} \\mathbb{E} [(Y - f(X))^2] $$\n",
        "\n",
        "Viene dado por\n",
        "\n",
        "$$ f(x) = \\mathbb{E} [Y \\, | \\, X = x] $$\n",
        "\n",
        "El objetivo de este ejercicio es ver numéricamente como una red neuronal entrenada para minimizar el error cuadrático medio de una muestra de puntos $\\{x_i, y_i \\}$ tales que $f(x_i ) = y_i$, con $f$ desconocida, en realidad se aproxima a la esperanza condicional con $X$ e $Y$ tales que $x_i \\sim X$, $y_i \\sim Y$."
      ]
    },
    {
      "cell_type": "markdown",
      "metadata": {
        "id": "Mos_hb0vY0zH"
      },
      "source": [
        "Para este ejercicio consideremos $X$ con ley $\\text{Unif}(-1,1)$, la función que buscamos aproximar será\n",
        "\n",
        "$$ f(x) = e^{-2 x^2}$$\n",
        "\n",
        "Y la ley de $Y$ supongamos que es $f(X) \\, + \\, \\text{batch_size}(0, 0.1^2)$."
      ]
    },
    {
      "cell_type": "markdown",
      "metadata": {
        "id": "GjLOSretZ0Kr"
      },
      "source": [
        "#### **Ejercicio 2.1: Generar datos de entrenamiento**\n",
        "\n",
        "Samplee 100 puntos de la ley de $X$ dada antes y con ello obtenga 100 muestras aleatorias correspondientes de $Y$."
      ]
    },
    {
      "cell_type": "code",
      "execution_count": 15,
      "metadata": {
        "id": "azFdzddaZzuS"
      },
      "outputs": [],
      "source": [
        "# Tu solución aquí"
      ]
    },
    {
      "cell_type": "markdown",
      "metadata": {
        "id": "BFdzHs9NaV-B"
      },
      "source": [
        "#### **Ejercicio 2.2: Cálculo de la esperanza condicional vía Montecarlo**\n",
        "\n",
        "En este caso como es sabida la ley de $Y$ vía la función $f$ (en la realidad todo esto es desconocido) se puede calcular la esperanza condicional vía método de Montecarlo. Cree una función en Python que dado un $x \\in [-1, 1]$ y una cantidad de muestras para la aproximación de Montecarlo, digamos $M$, calcule\n",
        "\n",
        "$$ \\mathbb{E} [Y \\, | \\, X = x] \\approx \\hat f = \\frac{1}{M} \\sum_{j=1}^M f(x) + w_j $$\n",
        "\n",
        "Donde los $w_j$ vienen sampleados desde una $batch_size(0, 0.1^2)$. Realice 3 gráficos de $\\hat f$ en $[-1, 1]$ uno utilizando $M=10$, $M=100$, $M=1000$ ¿qué observa cuando $M$ aumenta?"
      ]
    },
    {
      "cell_type": "code",
      "execution_count": 16,
      "metadata": {
        "id": "aO8v4nLVWS3Y"
      },
      "outputs": [],
      "source": [
        "# Tu solución aquí"
      ]
    },
    {
      "cell_type": "markdown",
      "metadata": {
        "id": "AekxEJtxbe-i"
      },
      "source": [
        "#### **Ejercicio 2.3: Observando la aproximación de una red neuronal**\n",
        "\n",
        "Entrene una red neuronal de una sola capa oculta con pérdida cuadrática para que ajuste a los datos que usted generó en el ejercicio 2.1, puede utilizar la función de pérdida y el ancho que más le acomode (o que mejores resultados le entregue). Grafique la predicción de la red neuronal en $[-1, 1]$ y compare con el resultado del ejercicio 2.2.\n",
        "\n",
        "*Indicación: Puede utilizar el código creado en el ejercicio 1, o bien, utilizar alguna librería como Pytorch, Tensorflow, etc.*"
      ]
    },
    {
      "cell_type": "code",
      "execution_count": 17,
      "metadata": {
        "id": "Etm5cPCoecZV"
      },
      "outputs": [],
      "source": [
        "# Tu solución aquí"
      ]
    }
  ],
  "metadata": {
    "colab": {
      "provenance": []
    },
    "kernelspec": {
      "display_name": "Python 3",
      "name": "python3"
    },
    "language_info": {
      "codemirror_mode": {
        "name": "ipython",
        "version": 3
      },
      "file_extension": ".py",
      "mimetype": "text/x-python",
      "name": "python",
      "nbconvert_exporter": "python",
      "pygments_lexer": "ipython3",
      "version": "3.12.3"
    }
  },
  "nbformat": 4,
  "nbformat_minor": 0
}
