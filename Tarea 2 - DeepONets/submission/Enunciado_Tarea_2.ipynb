{
  "nbformat": 4,
  "nbformat_minor": 0,
  "metadata": {
    "colab": {
      "provenance": []
    },
    "kernelspec": {
      "name": "python3",
      "display_name": "Python 3"
    },
    "language_info": {
      "name": "python"
    }
  },
  "cells": [
    {
      "cell_type": "markdown",
      "source": [
        "## **MA5606 Tópicos Matemáticos en Aprendizaje de Máquinas, Redes Neuronales y Aprendizaje Profundo**\n",
        "\n",
        "### **Tarea 2: Algoritmos de entrenamiento y aproximación de esperanzas condicionales**\n",
        "\n",
        "**Profesores: Claudio Muñoz y Joaquín Fontbona**\n",
        "\n",
        "**Auxiliares: Javier Maass y Diego Olguín**\n",
        "\n",
        "**Nombres integrantes: COMPLETAR**\n",
        "\n"
      ],
      "metadata": {
        "id": "gqFk5CBeLjN0"
      }
    },
    {
      "cell_type": "markdown",
      "source": [
        "**Instrucciones:**\n",
        "\n",
        "- **Fecha de entrega:** **31 de mayo de 2024, a las 23:59.**\n",
        "\n",
        "- **Importante:** Si trabaja desde el link de Google Colab debe hacer un copia en su Drive antes de trabajar, de lo contrario se podrían no guardar sus códigos.\n",
        "\n",
        "- Debe entregar un Jupyter Notebook (archivo .ipynb) con sus código en Python. Le pueden ser de mucha utilidad los códigos vistos en la actividad práctica.\n",
        "\n",
        "- Sus códigos deben estar comentados y ordenados. Además, en formato texto debe colocar todas sus conclusiones y resultados pedidos que deban ser redactados.\n",
        "\n",
        "- En todos los ejercicios se le pide hacer al menos un gráfico. Los gráficos que realicen deben ser claros, con títulos y nombres en los ejes, junto con leyendas si es que corresponde."
      ],
      "metadata": {
        "id": "j3gTx7GbPsvw"
      }
    },
    {
      "cell_type": "markdown",
      "source": [
        "#### **Ejercicio 1: Algoritmo Adam**\n",
        "\n",
        "En el presente [artículo](https://arxiv.org/abs/1412.6980) se introduce el algoritmo de optimización estocástica Adam (por Adaptative Moment Estimation), el objetivo de este ejercicio es implementar dicho algoritmo y utilizarlo para entrenar redes neuronales, para ello se explorarán todos los detalles de implementación de una red neuronal, con ciertas simplificaciones.\n",
        "\n",
        "Utilizaremos Adam para entrenar una red neuronal de 1 capa oculta de $\\mathbb{R}$ en $\\mathbb{R}$, de ancho $N$, con su realización dada por\n",
        "\n",
        "$$ \\Phi_\\theta (x) = W_2 \\cdot \\sigma (W_1 \\cdot x + b_1) + b_2 $$\n",
        "\n",
        "Consideraremos $\\sigma(x) = \\text{tanh}(x)$ y $\\theta = (W_1, b_1, W_2, b_2)$, $W_1 \\in \\mathbb{R}^{N \\times 1}$, $b_1 \\in \\mathbb{R}^{N}$, $W_2 \\in \\mathbb{R}^{1 \\times N}$, $b_2 \\in \\mathbb{R}$. En este caso codificaremos, los parámetros del sistema en un vector de $\\mathbb{R}^{3N + 1}$ dado por\n",
        "\n",
        "$$ \\theta = (W_1, b_1, W_2, b_2)^T $$\n",
        "\n",
        "Esto no es lo que hacen las librerías de aprendizaje profundo en la realidad, pero en este caso permite simplificar mucho los manejos de estructuras de datos utilizadas.\n",
        "\n",
        "Para lo que sigue utilizaremos la librería ``autograd`` (instalada ya en Google Colab) que facilitará implementar la diferenciación automática (utilizada en las librerías más importantes de *deep learning*) para calcular facilmente el gradiente de la función de pérdida. Esta librería sobrescribe la librería ``numpy`` por lo que ahora utilizaremos esa librería con el sobrenombre ``np`` como si fuese la librería original."
      ],
      "metadata": {
        "id": "WEl7z1gWLr7t"
      }
    },
    {
      "cell_type": "code",
      "execution_count": 1,
      "metadata": {
        "id": "UDxkpYSSdGy9"
      },
      "outputs": [],
      "source": [
        "# Numpy de autograd\n",
        "import autograd.numpy as np\n",
        "\n",
        "# Función de gradiente mediante diferenciación automática\n",
        "from autograd import grad\n",
        "\n",
        "# Para graficar\n",
        "import matplotlib.pyplot as plt"
      ]
    },
    {
      "cell_type": "markdown",
      "source": [
        "Buscaremos ajustar la red neuronal a datos *sampleados* desde una función $\\text{cos}(x)$ con cierto ruido gaussiano. Generemos los datos antes de empezar el ejercicio."
      ],
      "metadata": {
        "id": "UCmed-4lboo_"
      }
    },
    {
      "cell_type": "code",
      "source": [
        "# Función a aproximar\n",
        "def f_true(x):\n",
        "    return np.cos(x)"
      ],
      "metadata": {
        "id": "9SVDXCeyJLcF"
      },
      "execution_count": 2,
      "outputs": []
    },
    {
      "cell_type": "code",
      "source": [
        "xdim = 1   # Dimensión de input\n",
        "Ndata = 20 # Cantidad de datos a samplear\n",
        "ydim = 1   # Dimensión de output"
      ],
      "metadata": {
        "id": "e5XJWDWkcFvk"
      },
      "execution_count": 3,
      "outputs": []
    },
    {
      "cell_type": "code",
      "source": [
        "# Datos aleatorios\n",
        "x_train = np.random.random((xdim, Ndata))\n",
        "\n",
        "# Sampleo de datos\n",
        "desv = 3e-2\n",
        "y_train = f_true(x_train) + desv*np.random.randn(*x_train.shape)\n",
        "\n",
        "plt.figure(figsize=(8,6))\n",
        "plt.scatter(x_train.flatten(), f_true(x_train).flatten(), label=\"Original\")\n",
        "plt.scatter(x_train.flatten(), y_train.flatten(), label=\"Ruidosa\")\n",
        "plt.xlabel(\"x\")\n",
        "plt.ylabel(\"y\")\n",
        "plt.title(\"Datos de entrenamiento con y sin ruido\")\n",
        "plt.legend()\n",
        "plt.show()"
      ],
      "metadata": {
        "colab": {
          "base_uri": "https://localhost:8080/",
          "height": 564
        },
        "id": "HeC4Z01ZjlJE",
        "outputId": "91b79880-7c9a-4d78-946c-c1a02e51eedb"
      },
      "execution_count": 4,
      "outputs": [
        {
          "output_type": "display_data",
          "data": {
            "text/plain": [
              "<Figure size 800x600 with 1 Axes>"
            ],
            "image/png": "[encoded data removed]"
          },
          "metadata": {}
        }
      ]
    },
    {
      "cell_type": "markdown",
      "source": [
        "#### **Ejercicio 1.1: Creación de una red neuronal de 1 capa oculta**\n",
        "\n",
        "Cree una función en Python ``net(params, x)`` que dados los parámetros codificados en un arreglo de ``numpy`` tal como se mostró arriba y un conjunto de datos $x \\in \\mathbb{R}^{1 \\times N_{data}}$ calcule el output de la red. Pruebe su función con parámetros inicializados aleatoriamente desde una uniforme estándar y el arreglo ``x_train`` creado antes."
      ],
      "metadata": {
        "id": "EhYCbiTfNHdP"
      }
    },
    {
      "cell_type": "code",
      "source": [
        "# Tu código aquí, pueden generar todas las celdas de código que gusten"
      ],
      "metadata": {
        "id": "8KOcCwUVcQ-3"
      },
      "execution_count": 5,
      "outputs": []
    },
    {
      "cell_type": "markdown",
      "source": [
        "#### **Ejercicio 1.2: Creación de la función de pérdida por *batches***\n",
        "\n",
        "La naturaleza estocástica del algoritmo proviene de que no se le entregan todos los datos de entrenamiento, sino que una muestra diferente en cada iteración de entrenamiento, dichas muestras las denotaremos *batches*. Implemente una función en Python ``loss(params)`` que dados unos parámetros ``params`` $\\theta$ haga lo siguiente:\n",
        "\n",
        "* Obtenga un subarreglo de tamaño $(1, N_{batches})$ de ``x_train`` de manera aleatoria y sin sustitución, digamos ``x_batch``.\n",
        "* Obtenga el ``y_batch`` correspondiente.\n",
        "* Calcule la pérdida cuadrática en este *batch*:\n",
        "\n",
        "$$ L(\\theta) = \\sum_{i=1}^{N_{batch}} (y_i - \\Phi_\\theta (x_i)) $$"
      ],
      "metadata": {
        "id": "8ctGquuJezf-"
      }
    },
    {
      "cell_type": "code",
      "source": [
        "# Tu solución aquí"
      ],
      "metadata": {
        "id": "8HG1i-j0np1V"
      },
      "execution_count": 6,
      "outputs": []
    },
    {
      "cell_type": "markdown",
      "source": [
        "#### **Ejercicio 1.3: Cálculo del gradiente vía autodiferenciación y comparación con diferencias finitas**\n",
        "\n",
        "Con la función ``grad`` de ``autograd`` calcule el gradiente de la función de pérdida antes creada, con tamaño de *batch* igual a ``Ndata``, es decir, la función de pérdida se vuelve determinista en este caso (ya que le pasamos todos los datos al tomar los batches sin sustitución. Compare en norma este gradiente con el cálculado mediante por diferencias finitas centradas\n",
        "\n",
        "$$ \\frac{\\partial L}{ \\partial \\theta_j} (\\theta) \\approx \\frac{L(\\theta + \\varepsilon e_j) - L(\\theta - \\varepsilon e_j)}{2 \\varepsilon} $$\n",
        "\n",
        "Para $\\varepsilon \\in \\{ 10, 1, 0.1, 0.01 \\}$, evaluado los gradientes en los mismo parámetros utilizados en la parte anterior."
      ],
      "metadata": {
        "id": "Vx7Xx_d4hKLR"
      }
    },
    {
      "cell_type": "code",
      "source": [
        "# Tu solución aquí"
      ],
      "metadata": {
        "id": "kgzhW_ZMiY51"
      },
      "execution_count": 7,
      "outputs": []
    },
    {
      "cell_type": "markdown",
      "source": [
        "#### **Ejercicio 1.4: Implementación de Adam**\n",
        "\n",
        "Vuelva a calcular el gradiente de la función de pérdida, pero ahora utilizando un tamaño de batch de $5$ (ahora sí se vuelve aleatoria la función de pérdida). Utilice 10000 iteraciones para el algoritmo y los mismos parámetros $\\alpha, \\beta_1, \\beta_2, \\varepsilon$ del artículo original. Grafique la evolución de la función de pérdida a través de las iteraciones en escala log-log (escala logarítmica en ambos ejes) y el resultado de la red en contraste con los datos y la función sin ruido evaluada en los puntos de entrenamiento."
      ],
      "metadata": {
        "id": "ksm7JUDDhAfT"
      }
    },
    {
      "cell_type": "code",
      "source": [
        "# Tu código aquí"
      ],
      "metadata": {
        "id": "iiKLJuifxE_X"
      },
      "execution_count": 8,
      "outputs": []
    },
    {
      "cell_type": "markdown",
      "source": [
        "### **Ejercicio 2: Aproximación de esperanzas condicionales vía redes neuronales**\n",
        "\n",
        "Sean $X$, $Y$ variables aleatorias y $f$ una función continua, luego es sabido de clases que el problema de encontrar una función que minimice el error cuadrático medio\n",
        "\n",
        "$$  \\min_{f} \\mathbb{E} [(Y - f(X))^2] $$\n",
        "\n",
        "Viene dado por\n",
        "\n",
        "$$ f(x) = \\mathbb{E} [Y \\, | \\, X = x] $$\n",
        "\n",
        "El objetivo de este ejercicio es ver numéricamente como una red neuronal entrenada para minimizar el error cuadrático medio de una muestra de puntos $\\{x_i, y_i \\}$ tales que $f(x_i ) = y_i$, con $f$ desconocida, en realidad se aproxima a la esperanza condicional con $X$ e $Y$ tales que $x_i \\sim X$, $y_i \\sim Y$."
      ],
      "metadata": {
        "id": "4aq1aV5BXBWZ"
      }
    },
    {
      "cell_type": "markdown",
      "source": [
        "Para este ejercicio consideremos $X$ con ley $\\text{Unif}(-1,1)$, la función que buscamos aproximar será\n",
        "\n",
        "$$ f(x) = e^{-2 x^2}$$\n",
        "\n",
        "Y la ley de $Y$ supongamos que es $f(X) \\, + \\, \\text{N}(0, 0.1^2)$."
      ],
      "metadata": {
        "id": "Mos_hb0vY0zH"
      }
    },
    {
      "cell_type": "markdown",
      "source": [
        "#### **Ejercicio 2.1: Generar datos de entrenamiento**\n",
        "\n",
        "Samplee 100 puntos de la ley de $X$ dada antes y con ello obtenga 100 muestras aleatorias correspondientes de $Y$."
      ],
      "metadata": {
        "id": "GjLOSretZ0Kr"
      }
    },
    {
      "cell_type": "code",
      "source": [
        "# Tu solución aquí"
      ],
      "metadata": {
        "id": "azFdzddaZzuS"
      },
      "execution_count": 9,
      "outputs": []
    },
    {
      "cell_type": "markdown",
      "source": [
        "#### **Ejercicio 2.2: Cálculo de la esperanza condicional vía Montecarlo**\n",
        "\n",
        "En este caso como es sabida la ley de $Y$ vía la función $f$ (en la realidad todo esto es desconocido) se puede calcular la esperanza condicional vía método de Montecarlo. Cree una función en Python que dado un $x \\in [-1, 1]$ y una cantidad de muestras para la aproximación de Montecarlo, digamos $M$, calcule\n",
        "\n",
        "$$ \\mathbb{E} [Y \\, | \\, X = x] \\approx \\hat f = \\frac{1}{M} \\sum_{j=1}^M f(x) + w_j $$\n",
        "\n",
        "Donde los $w_j$ vienen sampleados desde una $N(0, 0.1^2)$. Realice 3 gráficos de $\\hat f$ en $[-1, 1]$ uno utilizando $M=10$, $M=100$, $M=1000$ ¿qué observa cuando $M$ aumenta?"
      ],
      "metadata": {
        "id": "BFdzHs9NaV-B"
      }
    },
    {
      "cell_type": "code",
      "source": [
        "# Tu solución aquí"
      ],
      "metadata": {
        "id": "aO8v4nLVWS3Y"
      },
      "execution_count": 10,
      "outputs": []
    },
    {
      "cell_type": "markdown",
      "source": [
        "#### **Ejercicio 2.3: Observando la aproximación de una red neuronal**\n",
        "\n",
        "Entrene una red neuronal de una sola capa oculta con pérdida cuadrática para que ajuste a los datos que usted generó en el ejercicio 2.1, puede utilizar la función de pérdida y el ancho que más le acomode (o que mejores resultados le entregue). Grafique la predicción de la red neuronal en $[-1, 1]$ y compare con el resultado del ejercicio 2.2.\n",
        "\n",
        "*Indicación: Puede utilizar el código creado en el ejercicio 1, o bien, utilizar alguna librería como Pytorch, Tensorflow, etc.*"
      ],
      "metadata": {
        "id": "AekxEJtxbe-i"
      }
    },
    {
      "cell_type": "code",
      "source": [
        "# Tu solución aquí"
      ],
      "metadata": {
        "id": "Etm5cPCoecZV"
      },
      "execution_count": 11,
      "outputs": []
    }
  ]
}